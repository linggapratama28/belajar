{
 "cells": [
  {
   "cell_type": "markdown",
   "id": "following-webcam",
   "metadata": {},
   "source": [
    "![](logo_pandas.png)"
   ]
  },
  {
   "cell_type": "code",
   "execution_count": 1,
   "id": "still-baltimore",
   "metadata": {},
   "outputs": [
    {
     "name": "stdout",
     "output_type": "stream",
     "text": [
      "1.2.2\n"
     ]
    }
   ],
   "source": [
    "import pandas as pd\n",
    "print(pd.__version__)"
   ]
  },
  {
   "cell_type": "markdown",
   "id": "bibliographic-character",
   "metadata": {},
   "source": [
    "## Persiapan Data Frame"
   ]
  },
  {
   "cell_type": "code",
   "execution_count": 27,
   "id": "wooden-extreme",
   "metadata": {},
   "outputs": [
    {
     "data": {
      "text/html": [
       "<div>\n",
       "<style scoped>\n",
       "    .dataframe tbody tr th:only-of-type {\n",
       "        vertical-align: middle;\n",
       "    }\n",
       "\n",
       "    .dataframe tbody tr th {\n",
       "        vertical-align: top;\n",
       "    }\n",
       "\n",
       "    .dataframe thead th {\n",
       "        text-align: right;\n",
       "    }\n",
       "</style>\n",
       "<table border=\"1\" class=\"dataframe\">\n",
       "  <thead>\n",
       "    <tr style=\"text-align: right;\">\n",
       "      <th></th>\n",
       "      <th>index</th>\n",
       "      <th>A</th>\n",
       "      <th>B</th>\n",
       "      <th>C</th>\n",
       "      <th>D</th>\n",
       "    </tr>\n",
       "  </thead>\n",
       "  <tbody>\n",
       "    <tr>\n",
       "      <th>0</th>\n",
       "      <td>US1dzNSwAL</td>\n",
       "      <td>0.058783</td>\n",
       "      <td>-0.344171</td>\n",
       "      <td>1.312697</td>\n",
       "      <td>0.095036</td>\n",
       "    </tr>\n",
       "    <tr>\n",
       "      <th>1</th>\n",
       "      <td>XqNOuTMA8B</td>\n",
       "      <td>-0.537092</td>\n",
       "      <td>NaN</td>\n",
       "      <td>-1.271789</td>\n",
       "      <td>0.722791</td>\n",
       "    </tr>\n",
       "    <tr>\n",
       "      <th>2</th>\n",
       "      <td>cBmjckb91e</td>\n",
       "      <td>-1.624995</td>\n",
       "      <td>-0.554786</td>\n",
       "      <td>-1.110005</td>\n",
       "      <td>-0.086748</td>\n",
       "    </tr>\n",
       "    <tr>\n",
       "      <th>3</th>\n",
       "      <td>By0DnmeUpl</td>\n",
       "      <td>-0.190961</td>\n",
       "      <td>-1.414717</td>\n",
       "      <td>1.143655</td>\n",
       "      <td>0.058026</td>\n",
       "    </tr>\n",
       "    <tr>\n",
       "      <th>4</th>\n",
       "      <td>gyglO4anKh</td>\n",
       "      <td>-0.734920</td>\n",
       "      <td>0.318729</td>\n",
       "      <td>-0.824256</td>\n",
       "      <td>1.619054</td>\n",
       "    </tr>\n",
       "  </tbody>\n",
       "</table>\n",
       "</div>"
      ],
      "text/plain": [
       "        index         A         B         C         D\n",
       "0  US1dzNSwAL  0.058783 -0.344171  1.312697  0.095036\n",
       "1  XqNOuTMA8B -0.537092       NaN -1.271789  0.722791\n",
       "2  cBmjckb91e -1.624995 -0.554786 -1.110005 -0.086748\n",
       "3  By0DnmeUpl -0.190961 -1.414717  1.143655  0.058026\n",
       "4  gyglO4anKh -0.734920  0.318729 -0.824256  1.619054"
      ]
     },
     "execution_count": 27,
     "metadata": {},
     "output_type": "execute_result"
    }
   ],
   "source": [
    "df = pd.util.testing.makeMissingDataframe().reset_index()\n",
    "df.head()"
   ]
  },
  {
   "cell_type": "code",
   "execution_count": 28,
   "id": "orange-times",
   "metadata": {},
   "outputs": [
    {
     "data": {
      "text/html": [
       "<div>\n",
       "<style scoped>\n",
       "    .dataframe tbody tr th:only-of-type {\n",
       "        vertical-align: middle;\n",
       "    }\n",
       "\n",
       "    .dataframe tbody tr th {\n",
       "        vertical-align: top;\n",
       "    }\n",
       "\n",
       "    .dataframe thead th {\n",
       "        text-align: right;\n",
       "    }\n",
       "</style>\n",
       "<table border=\"1\" class=\"dataframe\">\n",
       "  <thead>\n",
       "    <tr style=\"text-align: right;\">\n",
       "      <th></th>\n",
       "      <th>Z</th>\n",
       "      <th>A</th>\n",
       "      <th>B</th>\n",
       "      <th>C</th>\n",
       "      <th>D</th>\n",
       "    </tr>\n",
       "  </thead>\n",
       "  <tbody>\n",
       "    <tr>\n",
       "      <th>0</th>\n",
       "      <td>US1dzNSwAL</td>\n",
       "      <td>0.058783</td>\n",
       "      <td>-0.344171</td>\n",
       "      <td>1.312697</td>\n",
       "      <td>0.095036</td>\n",
       "    </tr>\n",
       "    <tr>\n",
       "      <th>1</th>\n",
       "      <td>XqNOuTMA8B</td>\n",
       "      <td>-0.537092</td>\n",
       "      <td>NaN</td>\n",
       "      <td>-1.271789</td>\n",
       "      <td>0.722791</td>\n",
       "    </tr>\n",
       "    <tr>\n",
       "      <th>2</th>\n",
       "      <td>cBmjckb91e</td>\n",
       "      <td>-1.624995</td>\n",
       "      <td>-0.554786</td>\n",
       "      <td>-1.110005</td>\n",
       "      <td>-0.086748</td>\n",
       "    </tr>\n",
       "    <tr>\n",
       "      <th>3</th>\n",
       "      <td>By0DnmeUpl</td>\n",
       "      <td>-0.190961</td>\n",
       "      <td>-1.414717</td>\n",
       "      <td>1.143655</td>\n",
       "      <td>0.058026</td>\n",
       "    </tr>\n",
       "    <tr>\n",
       "      <th>4</th>\n",
       "      <td>gyglO4anKh</td>\n",
       "      <td>-0.734920</td>\n",
       "      <td>0.318729</td>\n",
       "      <td>-0.824256</td>\n",
       "      <td>1.619054</td>\n",
       "    </tr>\n",
       "  </tbody>\n",
       "</table>\n",
       "</div>"
      ],
      "text/plain": [
       "            Z         A         B         C         D\n",
       "0  US1dzNSwAL  0.058783 -0.344171  1.312697  0.095036\n",
       "1  XqNOuTMA8B -0.537092       NaN -1.271789  0.722791\n",
       "2  cBmjckb91e -1.624995 -0.554786 -1.110005 -0.086748\n",
       "3  By0DnmeUpl -0.190961 -1.414717  1.143655  0.058026\n",
       "4  gyglO4anKh -0.734920  0.318729 -0.824256  1.619054"
      ]
     },
     "execution_count": 28,
     "metadata": {},
     "output_type": "execute_result"
    }
   ],
   "source": [
    "df = df.rename(columns={'index':'Z'})\n",
    "df.head()"
   ]
  },
  {
   "cell_type": "code",
   "execution_count": 29,
   "id": "cultural-morocco",
   "metadata": {},
   "outputs": [],
   "source": [
    "df_backup = df.copy(deep=True)"
   ]
  },
  {
   "cell_type": "markdown",
   "id": "sixth-bahamas",
   "metadata": {},
   "source": [
    "## Menghapus (drop) Setiap Kolom Yang Mengandung Missing values"
   ]
  },
  {
   "cell_type": "code",
   "execution_count": 30,
   "id": "appropriate-aluminum",
   "metadata": {},
   "outputs": [
    {
     "data": {
      "text/html": [
       "<div>\n",
       "<style scoped>\n",
       "    .dataframe tbody tr th:only-of-type {\n",
       "        vertical-align: middle;\n",
       "    }\n",
       "\n",
       "    .dataframe tbody tr th {\n",
       "        vertical-align: top;\n",
       "    }\n",
       "\n",
       "    .dataframe thead th {\n",
       "        text-align: right;\n",
       "    }\n",
       "</style>\n",
       "<table border=\"1\" class=\"dataframe\">\n",
       "  <thead>\n",
       "    <tr style=\"text-align: right;\">\n",
       "      <th></th>\n",
       "      <th>Z</th>\n",
       "    </tr>\n",
       "  </thead>\n",
       "  <tbody>\n",
       "    <tr>\n",
       "      <th>0</th>\n",
       "      <td>US1dzNSwAL</td>\n",
       "    </tr>\n",
       "    <tr>\n",
       "      <th>1</th>\n",
       "      <td>XqNOuTMA8B</td>\n",
       "    </tr>\n",
       "    <tr>\n",
       "      <th>2</th>\n",
       "      <td>cBmjckb91e</td>\n",
       "    </tr>\n",
       "    <tr>\n",
       "      <th>3</th>\n",
       "      <td>By0DnmeUpl</td>\n",
       "    </tr>\n",
       "    <tr>\n",
       "      <th>4</th>\n",
       "      <td>gyglO4anKh</td>\n",
       "    </tr>\n",
       "  </tbody>\n",
       "</table>\n",
       "</div>"
      ],
      "text/plain": [
       "            Z\n",
       "0  US1dzNSwAL\n",
       "1  XqNOuTMA8B\n",
       "2  cBmjckb91e\n",
       "3  By0DnmeUpl\n",
       "4  gyglO4anKh"
      ]
     },
     "execution_count": 30,
     "metadata": {},
     "output_type": "execute_result"
    }
   ],
   "source": [
    "df = df.dropna(axis='columns')\n",
    "df.head()"
   ]
  },
  {
   "cell_type": "markdown",
   "id": "micro-advisory",
   "metadata": {},
   "source": [
    "## Menghapus (drop) Setiap Baris Yang Mengandung Missing values"
   ]
  },
  {
   "cell_type": "code",
   "execution_count": 31,
   "id": "intelligent-allah",
   "metadata": {},
   "outputs": [
    {
     "data": {
      "text/html": [
       "<div>\n",
       "<style scoped>\n",
       "    .dataframe tbody tr th:only-of-type {\n",
       "        vertical-align: middle;\n",
       "    }\n",
       "\n",
       "    .dataframe tbody tr th {\n",
       "        vertical-align: top;\n",
       "    }\n",
       "\n",
       "    .dataframe thead th {\n",
       "        text-align: right;\n",
       "    }\n",
       "</style>\n",
       "<table border=\"1\" class=\"dataframe\">\n",
       "  <thead>\n",
       "    <tr style=\"text-align: right;\">\n",
       "      <th></th>\n",
       "      <th>Z</th>\n",
       "      <th>A</th>\n",
       "      <th>B</th>\n",
       "      <th>C</th>\n",
       "      <th>D</th>\n",
       "    </tr>\n",
       "  </thead>\n",
       "  <tbody>\n",
       "    <tr>\n",
       "      <th>0</th>\n",
       "      <td>US1dzNSwAL</td>\n",
       "      <td>0.058783</td>\n",
       "      <td>-0.344171</td>\n",
       "      <td>1.312697</td>\n",
       "      <td>0.095036</td>\n",
       "    </tr>\n",
       "    <tr>\n",
       "      <th>2</th>\n",
       "      <td>cBmjckb91e</td>\n",
       "      <td>-1.624995</td>\n",
       "      <td>-0.554786</td>\n",
       "      <td>-1.110005</td>\n",
       "      <td>-0.086748</td>\n",
       "    </tr>\n",
       "    <tr>\n",
       "      <th>3</th>\n",
       "      <td>By0DnmeUpl</td>\n",
       "      <td>-0.190961</td>\n",
       "      <td>-1.414717</td>\n",
       "      <td>1.143655</td>\n",
       "      <td>0.058026</td>\n",
       "    </tr>\n",
       "    <tr>\n",
       "      <th>4</th>\n",
       "      <td>gyglO4anKh</td>\n",
       "      <td>-0.734920</td>\n",
       "      <td>0.318729</td>\n",
       "      <td>-0.824256</td>\n",
       "      <td>1.619054</td>\n",
       "    </tr>\n",
       "    <tr>\n",
       "      <th>5</th>\n",
       "      <td>wqmATAJkl3</td>\n",
       "      <td>0.079511</td>\n",
       "      <td>0.983410</td>\n",
       "      <td>0.918185</td>\n",
       "      <td>2.823179</td>\n",
       "    </tr>\n",
       "  </tbody>\n",
       "</table>\n",
       "</div>"
      ],
      "text/plain": [
       "            Z         A         B         C         D\n",
       "0  US1dzNSwAL  0.058783 -0.344171  1.312697  0.095036\n",
       "2  cBmjckb91e -1.624995 -0.554786 -1.110005 -0.086748\n",
       "3  By0DnmeUpl -0.190961 -1.414717  1.143655  0.058026\n",
       "4  gyglO4anKh -0.734920  0.318729 -0.824256  1.619054\n",
       "5  wqmATAJkl3  0.079511  0.983410  0.918185  2.823179"
      ]
     },
     "execution_count": 31,
     "metadata": {},
     "output_type": "execute_result"
    }
   ],
   "source": [
    "df = df_backup.copy(deep=True)\n",
    "df = df.dropna(axis='rows')\n",
    "df.head()"
   ]
  },
  {
   "cell_type": "markdown",
   "id": "wrong-married",
   "metadata": {},
   "source": [
    "## Persentase Missing Values Untuk Tiap Kolom"
   ]
  },
  {
   "cell_type": "code",
   "execution_count": 32,
   "id": "retired-industry",
   "metadata": {},
   "outputs": [
    {
     "data": {
      "text/plain": [
       "Z    0.000000\n",
       "A    0.100000\n",
       "B    0.166667\n",
       "C    0.100000\n",
       "D    0.033333\n",
       "dtype: float64"
      ]
     },
     "execution_count": 32,
     "metadata": {},
     "output_type": "execute_result"
    }
   ],
   "source": [
    "df = df_backup.copy(deep=True)\n",
    "df.isna().mean()\n",
    "#fungsi df.isna untuk mengumpulkan semua missing vlaues dari setiap kolom data frame kita\n",
    "#fungsi .mean mengkalkulasi rata2 dari missing values yg dimiliki oleh setiap kolom dari data frame kita"
   ]
  },
  {
   "cell_type": "markdown",
   "id": "trained-string",
   "metadata": {},
   "source": [
    "## Kenapa kita harus menghitung missing values?\n",
    "\n",
    "karena hasil persentase missing values akan digunakan untuk hal selanjutnya yaitu menghapus semua kolom yg mengandung missing kolom berdasarkan threshol tertentu"
   ]
  },
  {
   "cell_type": "markdown",
   "id": "flush-liberty",
   "metadata": {},
   "source": [
    "## Menghapus (drop) Setiap Kolom Yang Mengandung Missing Values Berdasarkan Threshold"
   ]
  },
  {
   "cell_type": "code",
   "execution_count": 35,
   "id": "nonprofit-glasgow",
   "metadata": {},
   "outputs": [
    {
     "data": {
      "text/html": [
       "<div>\n",
       "<style scoped>\n",
       "    .dataframe tbody tr th:only-of-type {\n",
       "        vertical-align: middle;\n",
       "    }\n",
       "\n",
       "    .dataframe tbody tr th {\n",
       "        vertical-align: top;\n",
       "    }\n",
       "\n",
       "    .dataframe thead th {\n",
       "        text-align: right;\n",
       "    }\n",
       "</style>\n",
       "<table border=\"1\" class=\"dataframe\">\n",
       "  <thead>\n",
       "    <tr style=\"text-align: right;\">\n",
       "      <th></th>\n",
       "      <th>Z</th>\n",
       "      <th>A</th>\n",
       "      <th>C</th>\n",
       "      <th>D</th>\n",
       "    </tr>\n",
       "  </thead>\n",
       "  <tbody>\n",
       "    <tr>\n",
       "      <th>0</th>\n",
       "      <td>US1dzNSwAL</td>\n",
       "      <td>0.058783</td>\n",
       "      <td>1.312697</td>\n",
       "      <td>0.095036</td>\n",
       "    </tr>\n",
       "    <tr>\n",
       "      <th>1</th>\n",
       "      <td>XqNOuTMA8B</td>\n",
       "      <td>-0.537092</td>\n",
       "      <td>-1.271789</td>\n",
       "      <td>0.722791</td>\n",
       "    </tr>\n",
       "    <tr>\n",
       "      <th>2</th>\n",
       "      <td>cBmjckb91e</td>\n",
       "      <td>-1.624995</td>\n",
       "      <td>-1.110005</td>\n",
       "      <td>-0.086748</td>\n",
       "    </tr>\n",
       "    <tr>\n",
       "      <th>3</th>\n",
       "      <td>By0DnmeUpl</td>\n",
       "      <td>-0.190961</td>\n",
       "      <td>1.143655</td>\n",
       "      <td>0.058026</td>\n",
       "    </tr>\n",
       "    <tr>\n",
       "      <th>4</th>\n",
       "      <td>gyglO4anKh</td>\n",
       "      <td>-0.734920</td>\n",
       "      <td>-0.824256</td>\n",
       "      <td>1.619054</td>\n",
       "    </tr>\n",
       "  </tbody>\n",
       "</table>\n",
       "</div>"
      ],
      "text/plain": [
       "            Z         A         C         D\n",
       "0  US1dzNSwAL  0.058783  1.312697  0.095036\n",
       "1  XqNOuTMA8B -0.537092 -1.271789  0.722791\n",
       "2  cBmjckb91e -1.624995 -1.110005 -0.086748\n",
       "3  By0DnmeUpl -0.190961  1.143655  0.058026\n",
       "4  gyglO4anKh -0.734920 -0.824256  1.619054"
      ]
     },
     "execution_count": 35,
     "metadata": {},
     "output_type": "execute_result"
    }
   ],
   "source": [
    "# fungsi dari treshold adalah memberi batas untuk setiap kolom yg ingin di buang kolomnya. disini menggunakan 0.9 / 90%\n",
    "\n",
    "treshold = len(df) * 0.9 # len(df) fungsinya untuk mencari tau jumlah raw dari data frame kita\n",
    "df = df.dropna(thresh=treshold, axis='columns')\n",
    "df.head()"
   ]
  },
  {
   "cell_type": "code",
   "execution_count": null,
   "id": "accepted-crisis",
   "metadata": {},
   "outputs": [],
   "source": []
  }
 ],
 "metadata": {
  "kernelspec": {
   "display_name": "Python 3",
   "language": "python",
   "name": "python3"
  },
  "language_info": {
   "codemirror_mode": {
    "name": "ipython",
    "version": 3
   },
   "file_extension": ".py",
   "mimetype": "text/x-python",
   "name": "python",
   "nbconvert_exporter": "python",
   "pygments_lexer": "ipython3",
   "version": "3.8.5"
  }
 },
 "nbformat": 4,
 "nbformat_minor": 5
}
