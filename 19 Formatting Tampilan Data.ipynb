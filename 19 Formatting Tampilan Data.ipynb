{
 "cells": [
  {
   "cell_type": "code",
   "execution_count": 2,
   "id": "checked-treasurer",
   "metadata": {},
   "outputs": [
    {
     "name": "stdout",
     "output_type": "stream",
     "text": [
      "1.2.2\n",
      "1.19.2\n"
     ]
    }
   ],
   "source": [
    "import pandas as pd\n",
    "import numpy as np\n",
    "\n",
    "print(pd.__version__)\n",
    "print(np.__version__)"
   ]
  },
  {
   "cell_type": "markdown",
   "id": "charitable-humanity",
   "metadata": {},
   "source": [
    "## Persiapan Data Frame"
   ]
  },
  {
   "cell_type": "code",
   "execution_count": 3,
   "id": "legendary-method",
   "metadata": {},
   "outputs": [
    {
     "data": {
      "text/html": [
       "<div>\n",
       "<style scoped>\n",
       "    .dataframe tbody tr th:only-of-type {\n",
       "        vertical-align: middle;\n",
       "    }\n",
       "\n",
       "    .dataframe tbody tr th {\n",
       "        vertical-align: top;\n",
       "    }\n",
       "\n",
       "    .dataframe thead th {\n",
       "        text-align: right;\n",
       "    }\n",
       "</style>\n",
       "<table border=\"1\" class=\"dataframe\">\n",
       "  <thead>\n",
       "    <tr style=\"text-align: right;\">\n",
       "      <th></th>\n",
       "      <th>omset</th>\n",
       "      <th>operasional</th>\n",
       "    </tr>\n",
       "  </thead>\n",
       "  <tbody>\n",
       "    <tr>\n",
       "      <th>0</th>\n",
       "      <td>6</td>\n",
       "      <td>16</td>\n",
       "    </tr>\n",
       "    <tr>\n",
       "      <th>1</th>\n",
       "      <td>6</td>\n",
       "      <td>6</td>\n",
       "    </tr>\n",
       "    <tr>\n",
       "      <th>2</th>\n",
       "      <td>10</td>\n",
       "      <td>18</td>\n",
       "    </tr>\n",
       "    <tr>\n",
       "      <th>3</th>\n",
       "      <td>7</td>\n",
       "      <td>11</td>\n",
       "    </tr>\n",
       "    <tr>\n",
       "      <th>4</th>\n",
       "      <td>5</td>\n",
       "      <td>8</td>\n",
       "    </tr>\n",
       "  </tbody>\n",
       "</table>\n",
       "</div>"
      ],
      "text/plain": [
       "   omset  operasional\n",
       "0      6           16\n",
       "1      6            6\n",
       "2     10           18\n",
       "3      7           11\n",
       "4      5            8"
      ]
     },
     "execution_count": 3,
     "metadata": {},
     "output_type": "execute_result"
    }
   ],
   "source": [
    "n_rows = 5\n",
    "n_cols = 2\n",
    "cols = ['omset', 'operasional']\n",
    "\n",
    "df = pd.DataFrame(np.random.randint(1, 20, size=(n_rows, n_cols)), columns=cols)\n",
    "df"
   ]
  },
  {
   "cell_type": "code",
   "execution_count": 4,
   "id": "maritime-french",
   "metadata": {},
   "outputs": [
    {
     "data": {
      "text/html": [
       "<div>\n",
       "<style scoped>\n",
       "    .dataframe tbody tr th:only-of-type {\n",
       "        vertical-align: middle;\n",
       "    }\n",
       "\n",
       "    .dataframe tbody tr th {\n",
       "        vertical-align: top;\n",
       "    }\n",
       "\n",
       "    .dataframe thead th {\n",
       "        text-align: right;\n",
       "    }\n",
       "</style>\n",
       "<table border=\"1\" class=\"dataframe\">\n",
       "  <thead>\n",
       "    <tr style=\"text-align: right;\">\n",
       "      <th></th>\n",
       "      <th>omset</th>\n",
       "      <th>operasional</th>\n",
       "    </tr>\n",
       "  </thead>\n",
       "  <tbody>\n",
       "    <tr>\n",
       "      <th>0</th>\n",
       "      <td>600000</td>\n",
       "      <td>160000</td>\n",
       "    </tr>\n",
       "    <tr>\n",
       "      <th>1</th>\n",
       "      <td>600000</td>\n",
       "      <td>60000</td>\n",
       "    </tr>\n",
       "    <tr>\n",
       "      <th>2</th>\n",
       "      <td>1000000</td>\n",
       "      <td>180000</td>\n",
       "    </tr>\n",
       "    <tr>\n",
       "      <th>3</th>\n",
       "      <td>700000</td>\n",
       "      <td>110000</td>\n",
       "    </tr>\n",
       "    <tr>\n",
       "      <th>4</th>\n",
       "      <td>500000</td>\n",
       "      <td>80000</td>\n",
       "    </tr>\n",
       "  </tbody>\n",
       "</table>\n",
       "</div>"
      ],
      "text/plain": [
       "     omset  operasional\n",
       "0   600000       160000\n",
       "1   600000        60000\n",
       "2  1000000       180000\n",
       "3   700000       110000\n",
       "4   500000        80000"
      ]
     },
     "execution_count": 4,
     "metadata": {},
     "output_type": "execute_result"
    }
   ],
   "source": [
    "df['omset'] = df['omset'] * 100_000\n",
    "df['operasional'] = df['operasional'] * 10_000\n",
    "df\n",
    "# karakter underscore dalam pemprograman python sering kali dikenal sebagai ignore character dan salah 1 kegunaannya bisa kita manfaatkan sebagai digital place holder"
   ]
  },
  {
   "cell_type": "markdown",
   "id": "assisted-ratio",
   "metadata": {},
   "source": [
    "## Membuat Kolom Tanggal"
   ]
  },
  {
   "cell_type": "code",
   "execution_count": 5,
   "id": "advisory-conflict",
   "metadata": {},
   "outputs": [
    {
     "name": "stderr",
     "output_type": "stream",
     "text": [
      "C:\\Users\\Lingga Pratama\\anaconda3\\envs\\linggapratama\\lib\\site-packages\\pandas\\util\\__init__.py:8: FutureWarning: pandas.util.testing is deprecated. Use the functions in the public API at pandas.testing instead.\n",
      "  import pandas.util.testing\n"
     ]
    },
    {
     "data": {
      "text/html": [
       "<div>\n",
       "<style scoped>\n",
       "    .dataframe tbody tr th:only-of-type {\n",
       "        vertical-align: middle;\n",
       "    }\n",
       "\n",
       "    .dataframe tbody tr th {\n",
       "        vertical-align: top;\n",
       "    }\n",
       "\n",
       "    .dataframe thead th {\n",
       "        text-align: right;\n",
       "    }\n",
       "</style>\n",
       "<table border=\"1\" class=\"dataframe\">\n",
       "  <thead>\n",
       "    <tr style=\"text-align: right;\">\n",
       "      <th></th>\n",
       "      <th>tanggal</th>\n",
       "      <th>omset</th>\n",
       "      <th>operasional</th>\n",
       "    </tr>\n",
       "  </thead>\n",
       "  <tbody>\n",
       "    <tr>\n",
       "      <th>0</th>\n",
       "      <td>2000-01-01</td>\n",
       "      <td>600000</td>\n",
       "      <td>160000</td>\n",
       "    </tr>\n",
       "    <tr>\n",
       "      <th>1</th>\n",
       "      <td>2000-01-02</td>\n",
       "      <td>600000</td>\n",
       "      <td>60000</td>\n",
       "    </tr>\n",
       "    <tr>\n",
       "      <th>2</th>\n",
       "      <td>2000-01-03</td>\n",
       "      <td>1000000</td>\n",
       "      <td>180000</td>\n",
       "    </tr>\n",
       "    <tr>\n",
       "      <th>3</th>\n",
       "      <td>2000-01-04</td>\n",
       "      <td>700000</td>\n",
       "      <td>110000</td>\n",
       "    </tr>\n",
       "    <tr>\n",
       "      <th>4</th>\n",
       "      <td>2000-01-05</td>\n",
       "      <td>500000</td>\n",
       "      <td>80000</td>\n",
       "    </tr>\n",
       "  </tbody>\n",
       "</table>\n",
       "</div>"
      ],
      "text/plain": [
       "     tanggal    omset  operasional\n",
       "0 2000-01-01   600000       160000\n",
       "1 2000-01-02   600000        60000\n",
       "2 2000-01-03  1000000       180000\n",
       "3 2000-01-04   700000       110000\n",
       "4 2000-01-05   500000        80000"
      ]
     },
     "execution_count": 5,
     "metadata": {},
     "output_type": "execute_result"
    }
   ],
   "source": [
    "df.index = pd.util.testing.makeDateIndex(n_rows, freq='D')\n",
    "df = df.reset_index()\n",
    "df = df.rename(columns={'index' : 'tanggal'})\n",
    "df"
   ]
  },
  {
   "cell_type": "markdown",
   "id": "continent-stroke",
   "metadata": {},
   "source": [
    "## Melakukan Formatting Tampilan Data Frame"
   ]
  },
  {
   "cell_type": "code",
   "execution_count": 6,
   "id": "indoor-clarity",
   "metadata": {},
   "outputs": [
    {
     "data": {
      "text/html": [
       "<style  type=\"text/css\" >\n",
       "</style><table id=\"T_af357_\" ><thead>    <tr>        <th class=\"blank level0\" ></th>        <th class=\"col_heading level0 col0\" >tanggal</th>        <th class=\"col_heading level0 col1\" >omset</th>        <th class=\"col_heading level0 col2\" >operasional</th>    </tr></thead><tbody>\n",
       "                <tr>\n",
       "                        <th id=\"T_af357_level0_row0\" class=\"row_heading level0 row0\" >0</th>\n",
       "                        <td id=\"T_af357_row0_col0\" class=\"data row0 col0\" >01/01/00</td>\n",
       "                        <td id=\"T_af357_row0_col1\" class=\"data row0 col1\" >Rp 600000.00</td>\n",
       "                        <td id=\"T_af357_row0_col2\" class=\"data row0 col2\" >Rp 160000.00</td>\n",
       "            </tr>\n",
       "            <tr>\n",
       "                        <th id=\"T_af357_level0_row1\" class=\"row_heading level0 row1\" >1</th>\n",
       "                        <td id=\"T_af357_row1_col0\" class=\"data row1 col0\" >02/01/00</td>\n",
       "                        <td id=\"T_af357_row1_col1\" class=\"data row1 col1\" >Rp 600000.00</td>\n",
       "                        <td id=\"T_af357_row1_col2\" class=\"data row1 col2\" >Rp 60000.00</td>\n",
       "            </tr>\n",
       "            <tr>\n",
       "                        <th id=\"T_af357_level0_row2\" class=\"row_heading level0 row2\" >2</th>\n",
       "                        <td id=\"T_af357_row2_col0\" class=\"data row2 col0\" >03/01/00</td>\n",
       "                        <td id=\"T_af357_row2_col1\" class=\"data row2 col1\" >Rp 1000000.00</td>\n",
       "                        <td id=\"T_af357_row2_col2\" class=\"data row2 col2\" >Rp 180000.00</td>\n",
       "            </tr>\n",
       "            <tr>\n",
       "                        <th id=\"T_af357_level0_row3\" class=\"row_heading level0 row3\" >3</th>\n",
       "                        <td id=\"T_af357_row3_col0\" class=\"data row3 col0\" >04/01/00</td>\n",
       "                        <td id=\"T_af357_row3_col1\" class=\"data row3 col1\" >Rp 700000.00</td>\n",
       "                        <td id=\"T_af357_row3_col2\" class=\"data row3 col2\" >Rp 110000.00</td>\n",
       "            </tr>\n",
       "            <tr>\n",
       "                        <th id=\"T_af357_level0_row4\" class=\"row_heading level0 row4\" >4</th>\n",
       "                        <td id=\"T_af357_row4_col0\" class=\"data row4 col0\" >05/01/00</td>\n",
       "                        <td id=\"T_af357_row4_col1\" class=\"data row4 col1\" >Rp 500000.00</td>\n",
       "                        <td id=\"T_af357_row4_col2\" class=\"data row4 col2\" >Rp 80000.00</td>\n",
       "            </tr>\n",
       "    </tbody></table>"
      ],
      "text/plain": [
       "<pandas.io.formats.style.Styler at 0x24776fa3610>"
      ]
     },
     "execution_count": 6,
     "metadata": {},
     "output_type": "execute_result"
    }
   ],
   "source": [
    "formatku = {'tanggal':'{:%d/%m/%y}',\n",
    "            'operasional':'Rp {:.2f}', # :.2f maksudnya ingin menyertakan 2 digit extra dibelakang koma\n",
    "            'omset':'Rp {:.2f}'}\n",
    "\n",
    "laporan = df.style.format(formatku)\n",
    "laporan"
   ]
  },
  {
   "cell_type": "code",
   "execution_count": 7,
   "id": "promotional-average",
   "metadata": {},
   "outputs": [
    {
     "data": {
      "text/plain": [
       "pandas.io.formats.style.Styler"
      ]
     },
     "execution_count": 7,
     "metadata": {},
     "output_type": "execute_result"
    }
   ],
   "source": [
    "type(laporan)"
   ]
  },
  {
   "cell_type": "code",
   "execution_count": 8,
   "id": "unusual-insertion",
   "metadata": {},
   "outputs": [
    {
     "data": {
      "text/html": [
       "<style  type=\"text/css\" >\n",
       "</style><table id=\"T_af357_\" ><thead>    <tr>        <th class=\"col_heading level0 col0\" >tanggal</th>        <th class=\"col_heading level0 col1\" >omset</th>        <th class=\"col_heading level0 col2\" >operasional</th>    </tr></thead><tbody>\n",
       "                <tr>\n",
       "                                <td id=\"T_af357_row0_col0\" class=\"data row0 col0\" >01/01/00</td>\n",
       "                        <td id=\"T_af357_row0_col1\" class=\"data row0 col1\" >Rp 600000.00</td>\n",
       "                        <td id=\"T_af357_row0_col2\" class=\"data row0 col2\" >Rp 160000.00</td>\n",
       "            </tr>\n",
       "            <tr>\n",
       "                                <td id=\"T_af357_row1_col0\" class=\"data row1 col0\" >02/01/00</td>\n",
       "                        <td id=\"T_af357_row1_col1\" class=\"data row1 col1\" >Rp 600000.00</td>\n",
       "                        <td id=\"T_af357_row1_col2\" class=\"data row1 col2\" >Rp 60000.00</td>\n",
       "            </tr>\n",
       "            <tr>\n",
       "                                <td id=\"T_af357_row2_col0\" class=\"data row2 col0\" >03/01/00</td>\n",
       "                        <td id=\"T_af357_row2_col1\" class=\"data row2 col1\" >Rp 1000000.00</td>\n",
       "                        <td id=\"T_af357_row2_col2\" class=\"data row2 col2\" >Rp 180000.00</td>\n",
       "            </tr>\n",
       "            <tr>\n",
       "                                <td id=\"T_af357_row3_col0\" class=\"data row3 col0\" >04/01/00</td>\n",
       "                        <td id=\"T_af357_row3_col1\" class=\"data row3 col1\" >Rp 700000.00</td>\n",
       "                        <td id=\"T_af357_row3_col2\" class=\"data row3 col2\" >Rp 110000.00</td>\n",
       "            </tr>\n",
       "            <tr>\n",
       "                                <td id=\"T_af357_row4_col0\" class=\"data row4 col0\" >05/01/00</td>\n",
       "                        <td id=\"T_af357_row4_col1\" class=\"data row4 col1\" >Rp 500000.00</td>\n",
       "                        <td id=\"T_af357_row4_col2\" class=\"data row4 col2\" >Rp 80000.00</td>\n",
       "            </tr>\n",
       "    </tbody></table>"
      ],
      "text/plain": [
       "<pandas.io.formats.style.Styler at 0x24776fa3610>"
      ]
     },
     "execution_count": 8,
     "metadata": {},
     "output_type": "execute_result"
    }
   ],
   "source": [
    "laporan.hide_index()"
   ]
  },
  {
   "cell_type": "code",
   "execution_count": 9,
   "id": "played-miniature",
   "metadata": {},
   "outputs": [
    {
     "data": {
      "text/html": [
       "<style  type=\"text/css\" >\n",
       "</style><table id=\"T_af357_\" ><caption>Data Omset dan Operasional</caption><thead>    <tr>        <th class=\"col_heading level0 col0\" >tanggal</th>        <th class=\"col_heading level0 col1\" >omset</th>        <th class=\"col_heading level0 col2\" >operasional</th>    </tr></thead><tbody>\n",
       "                <tr>\n",
       "                                <td id=\"T_af357_row0_col0\" class=\"data row0 col0\" >01/01/00</td>\n",
       "                        <td id=\"T_af357_row0_col1\" class=\"data row0 col1\" >Rp 600000.00</td>\n",
       "                        <td id=\"T_af357_row0_col2\" class=\"data row0 col2\" >Rp 160000.00</td>\n",
       "            </tr>\n",
       "            <tr>\n",
       "                                <td id=\"T_af357_row1_col0\" class=\"data row1 col0\" >02/01/00</td>\n",
       "                        <td id=\"T_af357_row1_col1\" class=\"data row1 col1\" >Rp 600000.00</td>\n",
       "                        <td id=\"T_af357_row1_col2\" class=\"data row1 col2\" >Rp 60000.00</td>\n",
       "            </tr>\n",
       "            <tr>\n",
       "                                <td id=\"T_af357_row2_col0\" class=\"data row2 col0\" >03/01/00</td>\n",
       "                        <td id=\"T_af357_row2_col1\" class=\"data row2 col1\" >Rp 1000000.00</td>\n",
       "                        <td id=\"T_af357_row2_col2\" class=\"data row2 col2\" >Rp 180000.00</td>\n",
       "            </tr>\n",
       "            <tr>\n",
       "                                <td id=\"T_af357_row3_col0\" class=\"data row3 col0\" >04/01/00</td>\n",
       "                        <td id=\"T_af357_row3_col1\" class=\"data row3 col1\" >Rp 700000.00</td>\n",
       "                        <td id=\"T_af357_row3_col2\" class=\"data row3 col2\" >Rp 110000.00</td>\n",
       "            </tr>\n",
       "            <tr>\n",
       "                                <td id=\"T_af357_row4_col0\" class=\"data row4 col0\" >05/01/00</td>\n",
       "                        <td id=\"T_af357_row4_col1\" class=\"data row4 col1\" >Rp 500000.00</td>\n",
       "                        <td id=\"T_af357_row4_col2\" class=\"data row4 col2\" >Rp 80000.00</td>\n",
       "            </tr>\n",
       "    </tbody></table>"
      ],
      "text/plain": [
       "<pandas.io.formats.style.Styler at 0x24776fa3610>"
      ]
     },
     "execution_count": 9,
     "metadata": {},
     "output_type": "execute_result"
    }
   ],
   "source": [
    "laporan.set_caption('Data Omset dan Operasional') #cara menambahkan judul pada data frame"
   ]
  },
  {
   "cell_type": "code",
   "execution_count": 10,
   "id": "pointed-bottle",
   "metadata": {},
   "outputs": [
    {
     "data": {
      "text/html": [
       "<style  type=\"text/css\" >\n",
       "#T_af357_row1_col2{\n",
       "            background-color:  lightblue;\n",
       "        }#T_af357_row2_col1{\n",
       "            background-color:  lightgreen;\n",
       "        }#T_af357_row2_col2{\n",
       "            background-color:  grey;\n",
       "        }#T_af357_row4_col1{\n",
       "            background-color:  pink;\n",
       "        }</style><table id=\"T_af357_\" ><caption>Data Omset dan Operasional</caption><thead>    <tr>        <th class=\"col_heading level0 col0\" >tanggal</th>        <th class=\"col_heading level0 col1\" >omset</th>        <th class=\"col_heading level0 col2\" >operasional</th>    </tr></thead><tbody>\n",
       "                <tr>\n",
       "                                <td id=\"T_af357_row0_col0\" class=\"data row0 col0\" >01/01/00</td>\n",
       "                        <td id=\"T_af357_row0_col1\" class=\"data row0 col1\" >Rp 600000.00</td>\n",
       "                        <td id=\"T_af357_row0_col2\" class=\"data row0 col2\" >Rp 160000.00</td>\n",
       "            </tr>\n",
       "            <tr>\n",
       "                                <td id=\"T_af357_row1_col0\" class=\"data row1 col0\" >02/01/00</td>\n",
       "                        <td id=\"T_af357_row1_col1\" class=\"data row1 col1\" >Rp 600000.00</td>\n",
       "                        <td id=\"T_af357_row1_col2\" class=\"data row1 col2\" >Rp 60000.00</td>\n",
       "            </tr>\n",
       "            <tr>\n",
       "                                <td id=\"T_af357_row2_col0\" class=\"data row2 col0\" >03/01/00</td>\n",
       "                        <td id=\"T_af357_row2_col1\" class=\"data row2 col1\" >Rp 1000000.00</td>\n",
       "                        <td id=\"T_af357_row2_col2\" class=\"data row2 col2\" >Rp 180000.00</td>\n",
       "            </tr>\n",
       "            <tr>\n",
       "                                <td id=\"T_af357_row3_col0\" class=\"data row3 col0\" >04/01/00</td>\n",
       "                        <td id=\"T_af357_row3_col1\" class=\"data row3 col1\" >Rp 700000.00</td>\n",
       "                        <td id=\"T_af357_row3_col2\" class=\"data row3 col2\" >Rp 110000.00</td>\n",
       "            </tr>\n",
       "            <tr>\n",
       "                                <td id=\"T_af357_row4_col0\" class=\"data row4 col0\" >05/01/00</td>\n",
       "                        <td id=\"T_af357_row4_col1\" class=\"data row4 col1\" >Rp 500000.00</td>\n",
       "                        <td id=\"T_af357_row4_col2\" class=\"data row4 col2\" >Rp 80000.00</td>\n",
       "            </tr>\n",
       "    </tbody></table>"
      ],
      "text/plain": [
       "<pandas.io.formats.style.Styler at 0x24776fa3610>"
      ]
     },
     "execution_count": 10,
     "metadata": {},
     "output_type": "execute_result"
    }
   ],
   "source": [
    "laporan.highlight_min('omset', color='pink')\n",
    "laporan.highlight_max('omset', color='lightgreen')\n",
    "\n",
    "laporan.highlight_min('operasional', color='lightblue')\n",
    "laporan.highlight_max('operasional', color='grey')"
   ]
  },
  {
   "cell_type": "code",
   "execution_count": null,
   "id": "hawaiian-realtor",
   "metadata": {},
   "outputs": [],
   "source": []
  }
 ],
 "metadata": {
  "kernelspec": {
   "display_name": "Python 3",
   "language": "python",
   "name": "python3"
  },
  "language_info": {
   "codemirror_mode": {
    "name": "ipython",
    "version": 3
   },
   "file_extension": ".py",
   "mimetype": "text/x-python",
   "name": "python",
   "nbconvert_exporter": "python",
   "pygments_lexer": "ipython3",
   "version": "3.8.5"
  }
 },
 "nbformat": 4,
 "nbformat_minor": 5
}
